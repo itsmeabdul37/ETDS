{
 "cells": [
  {
   "cell_type": "code",
   "execution_count": 8,
   "id": "89c761c7",
   "metadata": {},
   "outputs": [
    {
     "ename": "SyntaxError",
     "evalue": "'return' outside function (3737555140.py, line 19)",
     "output_type": "error",
     "traceback": [
      "\u001b[1;36m  Cell \u001b[1;32mIn[8], line 19\u001b[1;36m\u001b[0m\n\u001b[1;33m    return (location, temperature, wind_speed, visibility)\u001b[0m\n\u001b[1;37m    ^\u001b[0m\n\u001b[1;31mSyntaxError\u001b[0m\u001b[1;31m:\u001b[0m 'return' outside function\n"
     ]
    }
   ],
   "source": [
    "import requests\n",
    "\n",
    "def get_weather_data(api_key, location_name=None, latitude=None,longitude=None, units=\"metric\"):\n",
    "    base_url = \"https://api.openweathermap.org/data/2.5/weather \"\n",
    "\n",
    "if location_name:\n",
    "    complete_url =f\"{base_url}?q={location_name}&appid={api_key}&units={units}\"\n",
    "elif latitude is not None and longitude is not None:\n",
    "    complete_url = f\"{base_url}?lat={latitude}&lon={longitude}&appid={api_key}&units={units}\"\n",
    "else:\n",
    "    raise ValueError(\"Either a location name or latitude and longitude must be provided.\")\n",
    "    response = requests.get(complete_url)\n",
    "    if response.status_code == 200:\n",
    "        weather_data = response.json()\n",
    "        location = weather_data.get(\"name\", 'Unknown location')\n",
    "        temperature = weather_data['main']['temp'] if 'main' in weather_data else 'No data'\n",
    "        wind_speed = weather_data['wind']['speed'] if 'wind' in weather_data else 'No data'\n",
    "        visibility = weather_data['visibility'] if 'visibility' in weather_data else 'No data'\n",
    "        return (location, temperature, wind_speed, visibility)\n",
    "    else:\n",
    "        return \"Error:\", response.status_code\n",
    "\n",
    "api_key = 'f26d7702ca041cbcc3b372524e241557'\n",
    "\n",
    "location_name = \"London\"\n",
    "\n",
    "location, temperature, wind_speed, visibility = get_weather_data(api_key,location_name=location_name)\n",
    "\n",
    "print(f\"Location: {location}\")\n",
    "print(f\"Temperature: {temperature} °C\")\n",
    "print(f\"Wind Speed: {wind_speed} meter/sec\")\n",
    "print(f\"Visibility: {visibility} meters\")\n"
   ]
  },
  {
   "cell_type": "code",
   "execution_count": null,
   "id": "81473ba2",
   "metadata": {},
   "outputs": [],
   "source": []
  }
 ],
 "metadata": {
  "kernelspec": {
   "display_name": "Python 3 (ipykernel)",
   "language": "python",
   "name": "python3"
  },
  "language_info": {
   "codemirror_mode": {
    "name": "ipython",
    "version": 3
   },
   "file_extension": ".py",
   "mimetype": "text/x-python",
   "name": "python",
   "nbconvert_exporter": "python",
   "pygments_lexer": "ipython3",
   "version": "3.11.5"
  }
 },
 "nbformat": 4,
 "nbformat_minor": 5
}
